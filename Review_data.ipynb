{
 "cells": [
  {
   "cell_type": "markdown",
   "metadata": {},
   "source": [
    "\n",
    "\n",
    "# Project: Investigating the NoShowAppointment Dataset \n",
    "\n",
    "## Table of Contents\n",
    "<ul>\n",
    "<li><a href=\"#intro\">Introduction</a></li>\n",
    "<li><a href=\"#question\">Questions</a></li>\n",
    "<li><a href=\"#wrangling\">Data Wrangling</a></li>\n",
    "<li><a href=\"#eda\">Exploratory Data Analysis</a></li>\n",
    "<li><a href=\"#conclusions\">Conclusions</a></li>\n",
    "<li><a href=\"#limitations\">Limitations</a></li>\n",
    "</ul>"
   ]
  },
  {
   "cell_type": "markdown",
   "metadata": {},
   "source": [
    "<a id='intro'></a>\n",
    "## Introduction\n",
    "\n",
    "> This dataset contains information collected from over 100k medical specialists in Brazil indicating patients who showed up for their appointment and those who didn't. This analysis is focused on gaining insights on factors that possibly influence a patient showing or not showing up for appointments\n",
    "\n",
    "> The dataset with its description can be found on the site  https://www.kaggle.com/joniarroba/noshowappointments/home\n",
    "\n",
    "\n"
   ]
  },
  {
   "cell_type": "code",
   "execution_count": 1,
   "metadata": {},
   "outputs": [],
   "source": [
    "# importing necessary packages\n",
    "import numpy as np\n",
    "import pandas as pd\n",
    "import matplotlib.pyplot as plt\n",
    "%matplotlib inline\n",
    "import seaborn as sns\n"
   ]
  },
  {
   "cell_type": "markdown",
   "metadata": {},
   "source": [
    "##### <a id='question'></a>\n",
    "## Questions\n",
    "\n",
    "- **What is the percentage of patients that missed their appointment?**\n",
    "- **How does attendance or missing of appointments vary by gender?**\n",
    "- **Do patients enrolled in Brazilian welfare program tends to show up for the appointments?**\n",
    "- **Which days of the week were appointments mostly scheduled?**\n",
    "- **What is the age distribution of patients scheduled for the appointment?**\n",
    "- **Which age range  of patients showed up for the appointment the most?**\n",
    "- **How does the days between the scheduled and appointment day affects show up rate?**"
   ]
  },
  {
   "cell_type": "markdown",
   "metadata": {},
   "source": [
    "<a id='wrangling'></a>\n",
    "## Data Wrangling\n",
    "\n"
   ]
  },
  {
   "cell_type": "code",
   "execution_count": 2,
   "metadata": {},
   "outputs": [
    {
     "data": {
      "text/html": [
       "<div>\n",
       "<style scoped>\n",
       "    .dataframe tbody tr th:only-of-type {\n",
       "        vertical-align: middle;\n",
       "    }\n",
       "\n",
       "    .dataframe tbody tr th {\n",
       "        vertical-align: top;\n",
       "    }\n",
       "\n",
       "    .dataframe thead th {\n",
       "        text-align: right;\n",
       "    }\n",
       "</style>\n",
       "<table border=\"1\" class=\"dataframe\">\n",
       "  <thead>\n",
       "    <tr style=\"text-align: right;\">\n",
       "      <th></th>\n",
       "      <th>PatientId</th>\n",
       "      <th>AppointmentID</th>\n",
       "      <th>Gender</th>\n",
       "      <th>ScheduledDay</th>\n",
       "      <th>AppointmentDay</th>\n",
       "      <th>Age</th>\n",
       "      <th>Neighbourhood</th>\n",
       "      <th>Scholarship</th>\n",
       "      <th>Hipertension</th>\n",
       "      <th>Diabetes</th>\n",
       "      <th>Alcoholism</th>\n",
       "      <th>Handcap</th>\n",
       "      <th>SMS_received</th>\n",
       "      <th>No-show</th>\n",
       "    </tr>\n",
       "  </thead>\n",
       "  <tbody>\n",
       "    <tr>\n",
       "      <th>0</th>\n",
       "      <td>2.987250e+13</td>\n",
       "      <td>5642903</td>\n",
       "      <td>F</td>\n",
       "      <td>2016-04-29T18:38:08Z</td>\n",
       "      <td>2016-04-29T00:00:00Z</td>\n",
       "      <td>62</td>\n",
       "      <td>JARDIM DA PENHA</td>\n",
       "      <td>0</td>\n",
       "      <td>1</td>\n",
       "      <td>0</td>\n",
       "      <td>0</td>\n",
       "      <td>0</td>\n",
       "      <td>0</td>\n",
       "      <td>No</td>\n",
       "    </tr>\n",
       "    <tr>\n",
       "      <th>1</th>\n",
       "      <td>5.589978e+14</td>\n",
       "      <td>5642503</td>\n",
       "      <td>M</td>\n",
       "      <td>2016-04-29T16:08:27Z</td>\n",
       "      <td>2016-04-29T00:00:00Z</td>\n",
       "      <td>56</td>\n",
       "      <td>JARDIM DA PENHA</td>\n",
       "      <td>0</td>\n",
       "      <td>0</td>\n",
       "      <td>0</td>\n",
       "      <td>0</td>\n",
       "      <td>0</td>\n",
       "      <td>0</td>\n",
       "      <td>No</td>\n",
       "    </tr>\n",
       "    <tr>\n",
       "      <th>2</th>\n",
       "      <td>4.262962e+12</td>\n",
       "      <td>5642549</td>\n",
       "      <td>F</td>\n",
       "      <td>2016-04-29T16:19:04Z</td>\n",
       "      <td>2016-04-29T00:00:00Z</td>\n",
       "      <td>62</td>\n",
       "      <td>MATA DA PRAIA</td>\n",
       "      <td>0</td>\n",
       "      <td>0</td>\n",
       "      <td>0</td>\n",
       "      <td>0</td>\n",
       "      <td>0</td>\n",
       "      <td>0</td>\n",
       "      <td>No</td>\n",
       "    </tr>\n",
       "    <tr>\n",
       "      <th>3</th>\n",
       "      <td>8.679512e+11</td>\n",
       "      <td>5642828</td>\n",
       "      <td>F</td>\n",
       "      <td>2016-04-29T17:29:31Z</td>\n",
       "      <td>2016-04-29T00:00:00Z</td>\n",
       "      <td>8</td>\n",
       "      <td>PONTAL DE CAMBURI</td>\n",
       "      <td>0</td>\n",
       "      <td>0</td>\n",
       "      <td>0</td>\n",
       "      <td>0</td>\n",
       "      <td>0</td>\n",
       "      <td>0</td>\n",
       "      <td>No</td>\n",
       "    </tr>\n",
       "    <tr>\n",
       "      <th>4</th>\n",
       "      <td>8.841186e+12</td>\n",
       "      <td>5642494</td>\n",
       "      <td>F</td>\n",
       "      <td>2016-04-29T16:07:23Z</td>\n",
       "      <td>2016-04-29T00:00:00Z</td>\n",
       "      <td>56</td>\n",
       "      <td>JARDIM DA PENHA</td>\n",
       "      <td>0</td>\n",
       "      <td>1</td>\n",
       "      <td>1</td>\n",
       "      <td>0</td>\n",
       "      <td>0</td>\n",
       "      <td>0</td>\n",
       "      <td>No</td>\n",
       "    </tr>\n",
       "  </tbody>\n",
       "</table>\n",
       "</div>"
      ],
      "text/plain": [
       "      PatientId  AppointmentID Gender          ScheduledDay  \\\n",
       "0  2.987250e+13        5642903      F  2016-04-29T18:38:08Z   \n",
       "1  5.589978e+14        5642503      M  2016-04-29T16:08:27Z   \n",
       "2  4.262962e+12        5642549      F  2016-04-29T16:19:04Z   \n",
       "3  8.679512e+11        5642828      F  2016-04-29T17:29:31Z   \n",
       "4  8.841186e+12        5642494      F  2016-04-29T16:07:23Z   \n",
       "\n",
       "         AppointmentDay  Age      Neighbourhood  Scholarship  Hipertension  \\\n",
       "0  2016-04-29T00:00:00Z   62    JARDIM DA PENHA            0             1   \n",
       "1  2016-04-29T00:00:00Z   56    JARDIM DA PENHA            0             0   \n",
       "2  2016-04-29T00:00:00Z   62      MATA DA PRAIA            0             0   \n",
       "3  2016-04-29T00:00:00Z    8  PONTAL DE CAMBURI            0             0   \n",
       "4  2016-04-29T00:00:00Z   56    JARDIM DA PENHA            0             1   \n",
       "\n",
       "   Diabetes  Alcoholism  Handcap  SMS_received No-show  \n",
       "0         0           0        0             0      No  \n",
       "1         0           0        0             0      No  \n",
       "2         0           0        0             0      No  \n",
       "3         0           0        0             0      No  \n",
       "4         1           0        0             0      No  "
      ]
     },
     "execution_count": 2,
     "metadata": {},
     "output_type": "execute_result"
    }
   ],
   "source": [
    "# loading the data\n",
    "da = pd.read_csv(\"noshowappointments-kagglev2-may-2016.csv\")\n",
    "\n",
    "# getting the first five observations of the data\n",
    "da.head()"
   ]
  },
  {
   "cell_type": "code",
   "execution_count": 3,
   "metadata": {},
   "outputs": [
    {
     "data": {
      "text/plain": [
       "(110527, 14)"
      ]
     },
     "execution_count": 3,
     "metadata": {},
     "output_type": "execute_result"
    }
   ],
   "source": [
    "# getting the number of observations and variables\n",
    "da.shape"
   ]
  },
  {
   "cell_type": "code",
   "execution_count": 4,
   "metadata": {
    "scrolled": true
   },
   "outputs": [
    {
     "name": "stdout",
     "output_type": "stream",
     "text": [
      "<class 'pandas.core.frame.DataFrame'>\n",
      "RangeIndex: 110527 entries, 0 to 110526\n",
      "Data columns (total 14 columns):\n",
      " #   Column          Non-Null Count   Dtype  \n",
      "---  ------          --------------   -----  \n",
      " 0   PatientId       110527 non-null  float64\n",
      " 1   AppointmentID   110527 non-null  int64  \n",
      " 2   Gender          110527 non-null  object \n",
      " 3   ScheduledDay    110527 non-null  object \n",
      " 4   AppointmentDay  110527 non-null  object \n",
      " 5   Age             110527 non-null  int64  \n",
      " 6   Neighbourhood   110527 non-null  object \n",
      " 7   Scholarship     110527 non-null  int64  \n",
      " 8   Hipertension    110527 non-null  int64  \n",
      " 9   Diabetes        110527 non-null  int64  \n",
      " 10  Alcoholism      110527 non-null  int64  \n",
      " 11  Handcap         110527 non-null  int64  \n",
      " 12  SMS_received    110527 non-null  int64  \n",
      " 13  No-show         110527 non-null  object \n",
      "dtypes: float64(1), int64(8), object(5)\n",
      "memory usage: 11.8+ MB\n"
     ]
    }
   ],
   "source": [
    "#getting information on each variable\n",
    "da.info()"
   ]
  },
  {
   "cell_type": "code",
   "execution_count": 5,
   "metadata": {},
   "outputs": [
    {
     "data": {
      "text/html": [
       "<div>\n",
       "<style scoped>\n",
       "    .dataframe tbody tr th:only-of-type {\n",
       "        vertical-align: middle;\n",
       "    }\n",
       "\n",
       "    .dataframe tbody tr th {\n",
       "        vertical-align: top;\n",
       "    }\n",
       "\n",
       "    .dataframe thead th {\n",
       "        text-align: right;\n",
       "    }\n",
       "</style>\n",
       "<table border=\"1\" class=\"dataframe\">\n",
       "  <thead>\n",
       "    <tr style=\"text-align: right;\">\n",
       "      <th></th>\n",
       "      <th>PatientId</th>\n",
       "      <th>AppointmentID</th>\n",
       "      <th>Age</th>\n",
       "      <th>Scholarship</th>\n",
       "      <th>Hipertension</th>\n",
       "      <th>Diabetes</th>\n",
       "      <th>Alcoholism</th>\n",
       "      <th>Handcap</th>\n",
       "      <th>SMS_received</th>\n",
       "    </tr>\n",
       "  </thead>\n",
       "  <tbody>\n",
       "    <tr>\n",
       "      <th>count</th>\n",
       "      <td>1.105270e+05</td>\n",
       "      <td>1.105270e+05</td>\n",
       "      <td>110527.000000</td>\n",
       "      <td>110527.000000</td>\n",
       "      <td>110527.000000</td>\n",
       "      <td>110527.000000</td>\n",
       "      <td>110527.000000</td>\n",
       "      <td>110527.000000</td>\n",
       "      <td>110527.000000</td>\n",
       "    </tr>\n",
       "    <tr>\n",
       "      <th>mean</th>\n",
       "      <td>1.474963e+14</td>\n",
       "      <td>5.675305e+06</td>\n",
       "      <td>37.088874</td>\n",
       "      <td>0.098266</td>\n",
       "      <td>0.197246</td>\n",
       "      <td>0.071865</td>\n",
       "      <td>0.030400</td>\n",
       "      <td>0.022248</td>\n",
       "      <td>0.321026</td>\n",
       "    </tr>\n",
       "    <tr>\n",
       "      <th>std</th>\n",
       "      <td>2.560949e+14</td>\n",
       "      <td>7.129575e+04</td>\n",
       "      <td>23.110205</td>\n",
       "      <td>0.297675</td>\n",
       "      <td>0.397921</td>\n",
       "      <td>0.258265</td>\n",
       "      <td>0.171686</td>\n",
       "      <td>0.161543</td>\n",
       "      <td>0.466873</td>\n",
       "    </tr>\n",
       "    <tr>\n",
       "      <th>min</th>\n",
       "      <td>3.921784e+04</td>\n",
       "      <td>5.030230e+06</td>\n",
       "      <td>-1.000000</td>\n",
       "      <td>0.000000</td>\n",
       "      <td>0.000000</td>\n",
       "      <td>0.000000</td>\n",
       "      <td>0.000000</td>\n",
       "      <td>0.000000</td>\n",
       "      <td>0.000000</td>\n",
       "    </tr>\n",
       "    <tr>\n",
       "      <th>25%</th>\n",
       "      <td>4.172614e+12</td>\n",
       "      <td>5.640286e+06</td>\n",
       "      <td>18.000000</td>\n",
       "      <td>0.000000</td>\n",
       "      <td>0.000000</td>\n",
       "      <td>0.000000</td>\n",
       "      <td>0.000000</td>\n",
       "      <td>0.000000</td>\n",
       "      <td>0.000000</td>\n",
       "    </tr>\n",
       "    <tr>\n",
       "      <th>50%</th>\n",
       "      <td>3.173184e+13</td>\n",
       "      <td>5.680573e+06</td>\n",
       "      <td>37.000000</td>\n",
       "      <td>0.000000</td>\n",
       "      <td>0.000000</td>\n",
       "      <td>0.000000</td>\n",
       "      <td>0.000000</td>\n",
       "      <td>0.000000</td>\n",
       "      <td>0.000000</td>\n",
       "    </tr>\n",
       "    <tr>\n",
       "      <th>75%</th>\n",
       "      <td>9.439172e+13</td>\n",
       "      <td>5.725524e+06</td>\n",
       "      <td>55.000000</td>\n",
       "      <td>0.000000</td>\n",
       "      <td>0.000000</td>\n",
       "      <td>0.000000</td>\n",
       "      <td>0.000000</td>\n",
       "      <td>0.000000</td>\n",
       "      <td>1.000000</td>\n",
       "    </tr>\n",
       "    <tr>\n",
       "      <th>max</th>\n",
       "      <td>9.999816e+14</td>\n",
       "      <td>5.790484e+06</td>\n",
       "      <td>115.000000</td>\n",
       "      <td>1.000000</td>\n",
       "      <td>1.000000</td>\n",
       "      <td>1.000000</td>\n",
       "      <td>1.000000</td>\n",
       "      <td>4.000000</td>\n",
       "      <td>1.000000</td>\n",
       "    </tr>\n",
       "  </tbody>\n",
       "</table>\n",
       "</div>"
      ],
      "text/plain": [
       "          PatientId  AppointmentID            Age    Scholarship  \\\n",
       "count  1.105270e+05   1.105270e+05  110527.000000  110527.000000   \n",
       "mean   1.474963e+14   5.675305e+06      37.088874       0.098266   \n",
       "std    2.560949e+14   7.129575e+04      23.110205       0.297675   \n",
       "min    3.921784e+04   5.030230e+06      -1.000000       0.000000   \n",
       "25%    4.172614e+12   5.640286e+06      18.000000       0.000000   \n",
       "50%    3.173184e+13   5.680573e+06      37.000000       0.000000   \n",
       "75%    9.439172e+13   5.725524e+06      55.000000       0.000000   \n",
       "max    9.999816e+14   5.790484e+06     115.000000       1.000000   \n",
       "\n",
       "        Hipertension       Diabetes     Alcoholism        Handcap  \\\n",
       "count  110527.000000  110527.000000  110527.000000  110527.000000   \n",
       "mean        0.197246       0.071865       0.030400       0.022248   \n",
       "std         0.397921       0.258265       0.171686       0.161543   \n",
       "min         0.000000       0.000000       0.000000       0.000000   \n",
       "25%         0.000000       0.000000       0.000000       0.000000   \n",
       "50%         0.000000       0.000000       0.000000       0.000000   \n",
       "75%         0.000000       0.000000       0.000000       0.000000   \n",
       "max         1.000000       1.000000       1.000000       4.000000   \n",
       "\n",
       "        SMS_received  \n",
       "count  110527.000000  \n",
       "mean        0.321026  \n",
       "std         0.466873  \n",
       "min         0.000000  \n",
       "25%         0.000000  \n",
       "50%         0.000000  \n",
       "75%         1.000000  \n",
       "max         1.000000  "
      ]
     },
     "execution_count": 5,
     "metadata": {},
     "output_type": "execute_result"
    }
   ],
   "source": [
    "da.describe()"
   ]
  },
  {
   "cell_type": "code",
   "execution_count": 6,
   "metadata": {},
   "outputs": [
    {
     "data": {
      "text/plain": [
       "Index(['PatientId', 'AppointmentID', 'Gender', 'ScheduledDay',\n",
       "       'AppointmentDay', 'Age', 'Neighbourhood', 'Scholarship', 'Hipertension',\n",
       "       'Diabetes', 'Alcoholism', 'Handcap', 'SMS_received', 'No-show'],\n",
       "      dtype='object')"
      ]
     },
     "execution_count": 6,
     "metadata": {},
     "output_type": "execute_result"
    }
   ],
   "source": [
    "#columns in the data\n",
    "da.columns"
   ]
  },
  {
   "cell_type": "code",
   "execution_count": 7,
   "metadata": {},
   "outputs": [],
   "source": [
    "#creating a function to get summary of columns \n",
    "def function(x):\n",
    "    print(\"The unique values in the column are: {} \".format(x.unique()))\n",
    "    print(\"The number of unique values in the column is: {} \".format(x.nunique()))\n",
    "    print(\"The count of each unique values in the column is: \\n {} \".format(x.value_counts()))\n",
    "    pl = sns.countplot(x=x)\n",
    "    pl.set_title(\"Count plot of unique values\")\n"
   ]
  },
  {
   "cell_type": "code",
   "execution_count": 8,
   "metadata": {},
   "outputs": [
    {
     "name": "stdout",
     "output_type": "stream",
     "text": [
      "The unique values in the column are: [0 1] \n",
      "The number of unique values in the column is: 2 \n",
      "The count of each unique values in the column is: \n",
      " 0    75045\n",
      "1    35482\n",
      "Name: SMS_received, dtype: int64 \n"
     ]
    },
    {
     "data": {
      "image/png": "[encoded data removed]",
      "text/plain": [
       "<Figure size 432x288 with 1 Axes>"
      ]
     },
     "metadata": {
      "needs_background": "light"
     },
     "output_type": "display_data"
    }
   ],
   "source": [
    "#applying function to SMS_received column\n",
    "function(da['SMS_received'])"
   ]
  },
  {
   "cell_type": "markdown",
   "metadata": {},
   "source": [
    "> The \"SMS_received\" variable only contains two unique values which is different from the dataset description.More information is needed for further analysis"
   ]
  },
  {
   "cell_type": "code",
   "execution_count": 9,
   "metadata": {},
   "outputs": [
    {
     "name": "stdout",
     "output_type": "stream",
     "text": [
      "The unique values in the column are: [0 1 2 3 4] \n",
      "The number of unique values in the column is: 5 \n",
      "The count of each unique values in the column is: \n",
      " 0    108286\n",
      "1      2042\n",
      "2       183\n",
      "3        13\n",
      "4         3\n",
      "Name: Handcap, dtype: int64 \n"
     ]
    },
    {
     "data": {
      "image/png": "[encoded data removed]",
      "text/plain": [
       "<Figure size 432x288 with 1 Axes>"
      ]
     },
     "metadata": {
      "needs_background": "light"
     },
     "output_type": "display_data"
    }
   ],
   "source": [
    "#applying function to Handcap column\n",
    "function(da['Handcap'])"
   ]
  },
  {
   "cell_type": "markdown",
   "metadata": {},
   "source": [
    "> The \"Handcap\" variable contains 5 unique values which is the different from the column description which state it is a categorical variable. My assumption is the \"Handcap\" and \"SMS_received\" column were swapped but more information is needed for verification before further analysis "
   ]
  },
  {
   "cell_type": "code",
   "execution_count": 10,
   "metadata": {},
   "outputs": [
    {
     "name": "stdout",
     "output_type": "stream",
     "text": [
      "The unique values in the column are: [1 0] \n",
      "The number of unique values in the column is: 2 \n",
      "The count of each unique values in the column is: \n",
      " 0    88726\n",
      "1    21801\n",
      "Name: Hipertension, dtype: int64 \n"
     ]
    },
    {
     "data": {
      "image/png": "[encoded data removed]",
      "text/plain": [
       "<Figure size 432x288 with 1 Axes>"
      ]
     },
     "metadata": {
      "needs_background": "light"
     },
     "output_type": "display_data"
    }
   ],
   "source": [
    "#applying function to Hipertension column\n",
    "function(da['Hipertension'])"
   ]
  },
  {
   "cell_type": "markdown",
   "metadata": {},
   "source": [
    "> 88726 patients out of the 110527 scheduled for appointment do not have hypertension which implies that there are more patients without hypertension that those having hypertension"
   ]
  },
  {
   "cell_type": "code",
   "execution_count": 11,
   "metadata": {},
   "outputs": [
    {
     "name": "stdout",
     "output_type": "stream",
     "text": [
      "The unique values in the column are: [0 1] \n",
      "The number of unique values in the column is: 2 \n",
      "The count of each unique values in the column is: \n",
      " 0    102584\n",
      "1      7943\n",
      "Name: Diabetes, dtype: int64 \n"
     ]
    },
    {
     "data": {
      "image/png": "[encoded data removed]",
      "text/plain": [
       "<Figure size 432x288 with 1 Axes>"
      ]
     },
     "metadata": {
      "needs_background": "light"
     },
     "output_type": "display_data"
    }
   ],
   "source": [
    "#applying function to Diabetes column\n",
    "function(da['Diabetes'])"
   ]
  },
  {
   "cell_type": "markdown",
   "metadata": {},
   "source": [
    "> Most of the patients scheduled for appointments were not diabetes patients. Only 7943 out of 110527 patients have diabetes"
   ]
  },
  {
   "cell_type": "code",
   "execution_count": 12,
   "metadata": {},
   "outputs": [
    {
     "name": "stdout",
     "output_type": "stream",
     "text": [
      "The unique values in the column are: [0 1] \n",
      "The number of unique values in the column is: 2 \n",
      "The count of each unique values in the column is: \n",
      " 0    107167\n",
      "1      3360\n",
      "Name: Alcoholism, dtype: int64 \n"
     ]
    },
    {
     "data": {
      "image/png": "[encoded data removed]",
      "text/plain": [
       "<Figure size 432x288 with 1 Axes>"
      ]
     },
     "metadata": {
      "needs_background": "light"
     },
     "output_type": "display_data"
    }
   ],
   "source": [
    "#applying function to Alcoholism column\n",
    "function(da['Alcoholism'])"
   ]
  },
  {
   "cell_type": "markdown",
   "metadata": {},
   "source": [
    "> Only 3360 patients out of the 110257 patients are alcoholic implying that most of the patients are not alcoholic"
   ]
  },
  {
   "cell_type": "markdown",
   "metadata": {},
   "source": [
    ">  **Initial Observations**\n",
    "\n",
    ">1. The dataset contains 110527 rows and 14 columns(13 dependent variable and one independent)\n",
    ">2. There are no missing values in the data \n",
    ">3. The datetime variables \"ScheduledDay\" and \"AppointmentDay\" are taken as strings and should be converted to datetime\n",
    ">4. Categorical Variables like \"Scholarship\",\"Hipertension\",\"Diabetes\",\"Alcoholism\" are taken as Integers so they need to be       changed for easy analysis\n",
    ">5. \"Handcap\" is a categorical variable but contains more than two unique values(more information needed)\n",
    ">6. \"SMS_received\" represents number of SMS received but the variable only contains 0 and 1(more information needed)\n",
    ">7. The column \"No-show\" has to be renamed to \"no_show\" to avoid errors during analysis\n",
    "\n"
   ]
  },
  {
   "cell_type": "markdown",
   "metadata": {},
   "source": [
    "## Data Cleaning "
   ]
  },
  {
   "cell_type": "markdown",
   "metadata": {},
   "source": [
    "###  1. Changing the variables stated above to Datetime"
   ]
  },
  {
   "cell_type": "code",
   "execution_count": 13,
   "metadata": {},
   "outputs": [],
   "source": [
    "# changing 'ScheduledDay' and 'AppointmentDay' to datetime\n",
    "da['ScheduledDay'] = pd.to_datetime(da['ScheduledDay'])\n",
    "da['AppointmentDay'] = pd.to_datetime(da['AppointmentDay'])\n"
   ]
  },
  {
   "cell_type": "code",
   "execution_count": 14,
   "metadata": {
    "scrolled": true
   },
   "outputs": [
    {
     "name": "stdout",
     "output_type": "stream",
     "text": [
      "<class 'pandas.core.frame.DataFrame'>\n",
      "RangeIndex: 110527 entries, 0 to 110526\n",
      "Data columns (total 14 columns):\n",
      " #   Column          Non-Null Count   Dtype              \n",
      "---  ------          --------------   -----              \n",
      " 0   PatientId       110527 non-null  float64            \n",
      " 1   AppointmentID   110527 non-null  int64              \n",
      " 2   Gender          110527 non-null  object             \n",
      " 3   ScheduledDay    110527 non-null  datetime64[ns, UTC]\n",
      " 4   AppointmentDay  110527 non-null  datetime64[ns, UTC]\n",
      " 5   Age             110527 non-null  int64              \n",
      " 6   Neighbourhood   110527 non-null  object             \n",
      " 7   Scholarship     110527 non-null  int64              \n",
      " 8   Hipertension    110527 non-null  int64              \n",
      " 9   Diabetes        110527 non-null  int64              \n",
      " 10  Alcoholism      110527 non-null  int64              \n",
      " 11  Handcap         110527 non-null  int64              \n",
      " 12  SMS_received    110527 non-null  int64              \n",
      " 13  No-show         110527 non-null  object             \n",
      "dtypes: datetime64[ns, UTC](2), float64(1), int64(8), object(3)\n",
      "memory usage: 11.8+ MB\n"
     ]
    }
   ],
   "source": [
    "#confirming the changes\n",
    "da.info()"
   ]
  },
  {
   "cell_type": "markdown",
   "metadata": {},
   "source": [
    "### 2. Renaming the column \"No-show\" to \"no_show\""
   ]
  },
  {
   "cell_type": "code",
   "execution_count": 15,
   "metadata": {},
   "outputs": [],
   "source": [
    "#renaming the column\n",
    "da.rename(columns = {\"No-show\":\"no_show\"},inplace=True)"
   ]
  },
  {
   "cell_type": "code",
   "execution_count": 16,
   "metadata": {},
   "outputs": [
    {
     "data": {
      "text/plain": [
       "Index(['PatientId', 'AppointmentID', 'Gender', 'ScheduledDay',\n",
       "       'AppointmentDay', 'Age', 'Neighbourhood', 'Scholarship', 'Hipertension',\n",
       "       'Diabetes', 'Alcoholism', 'Handcap', 'SMS_received', 'no_show'],\n",
       "      dtype='object')"
      ]
     },
     "execution_count": 16,
     "metadata": {},
     "output_type": "execute_result"
    }
   ],
   "source": [
    "#confirming the change\n",
    "da.columns"
   ]
  },
  {
   "cell_type": "markdown",
   "metadata": {},
   "source": [
    "### 3. changing the integer variables stated above to categorical variables"
   ]
  },
  {
   "cell_type": "code",
   "execution_count": 17,
   "metadata": {},
   "outputs": [],
   "source": [
    "#changing 0 and 1 in the categorical variables to \"no\" and \"yes\"\n",
    "da['Scholarship'] = da['Scholarship'].map({1:\"yes\",0:\"no\"})\n",
    "da['Hipertension'] = da['Hipertension'].map({1:\"yes\",0:\"no\"})\n",
    "da['Diabetes'] = da['Diabetes'].map({1:\"yes\",0:\"no\"})\n",
    "da['Alcoholism'] = da['Alcoholism'].map({1:\"yes\",0:\"no\"})\n"
   ]
  },
  {
   "cell_type": "code",
   "execution_count": 18,
   "metadata": {
    "scrolled": true
   },
   "outputs": [
    {
     "name": "stdout",
     "output_type": "stream",
     "text": [
      "<class 'pandas.core.frame.DataFrame'>\n",
      "RangeIndex: 110527 entries, 0 to 110526\n",
      "Data columns (total 14 columns):\n",
      " #   Column          Non-Null Count   Dtype              \n",
      "---  ------          --------------   -----              \n",
      " 0   PatientId       110527 non-null  float64            \n",
      " 1   AppointmentID   110527 non-null  int64              \n",
      " 2   Gender          110527 non-null  object             \n",
      " 3   ScheduledDay    110527 non-null  datetime64[ns, UTC]\n",
      " 4   AppointmentDay  110527 non-null  datetime64[ns, UTC]\n",
      " 5   Age             110527 non-null  int64              \n",
      " 6   Neighbourhood   110527 non-null  object             \n",
      " 7   Scholarship     110527 non-null  object             \n",
      " 8   Hipertension    110527 non-null  object             \n",
      " 9   Diabetes        110527 non-null  object             \n",
      " 10  Alcoholism      110527 non-null  object             \n",
      " 11  Handcap         110527 non-null  int64              \n",
      " 12  SMS_received    110527 non-null  int64              \n",
      " 13  no_show         110527 non-null  object             \n",
      "dtypes: datetime64[ns, UTC](2), float64(1), int64(4), object(7)\n",
      "memory usage: 11.8+ MB\n"
     ]
    }
   ],
   "source": [
    "#confirming changes made\n",
    "da.info()"
   ]
  },
  {
   "cell_type": "code",
   "execution_count": 19,
   "metadata": {},
   "outputs": [
    {
     "data": {
      "text/html": [
       "<div>\n",
       "<style scoped>\n",
       "    .dataframe tbody tr th:only-of-type {\n",
       "        vertical-align: middle;\n",
       "    }\n",
       "\n",
       "    .dataframe tbody tr th {\n",
       "        vertical-align: top;\n",
       "    }\n",
       "\n",
       "    .dataframe thead th {\n",
       "        text-align: right;\n",
       "    }\n",
       "</style>\n",
       "<table border=\"1\" class=\"dataframe\">\n",
       "  <thead>\n",
       "    <tr style=\"text-align: right;\">\n",
       "      <th></th>\n",
       "      <th>PatientId</th>\n",
       "      <th>AppointmentID</th>\n",
       "      <th>Gender</th>\n",
       "      <th>ScheduledDay</th>\n",
       "      <th>AppointmentDay</th>\n",
       "      <th>Age</th>\n",
       "      <th>Neighbourhood</th>\n",
       "      <th>Scholarship</th>\n",
       "      <th>Hipertension</th>\n",
       "      <th>Diabetes</th>\n",
       "      <th>Alcoholism</th>\n",
       "      <th>Handcap</th>\n",
       "      <th>SMS_received</th>\n",
       "      <th>no_show</th>\n",
       "    </tr>\n",
       "  </thead>\n",
       "  <tbody>\n",
       "    <tr>\n",
       "      <th>0</th>\n",
       "      <td>2.987250e+13</td>\n",
       "      <td>5642903</td>\n",
       "      <td>F</td>\n",
       "      <td>2016-04-29 18:38:08+00:00</td>\n",
       "      <td>2016-04-29 00:00:00+00:00</td>\n",
       "      <td>62</td>\n",
       "      <td>JARDIM DA PENHA</td>\n",
       "      <td>no</td>\n",
       "      <td>yes</td>\n",
       "      <td>no</td>\n",
       "      <td>no</td>\n",
       "      <td>0</td>\n",
       "      <td>0</td>\n",
       "      <td>No</td>\n",
       "    </tr>\n",
       "    <tr>\n",
       "      <th>1</th>\n",
       "      <td>5.589978e+14</td>\n",
       "      <td>5642503</td>\n",
       "      <td>M</td>\n",
       "      <td>2016-04-29 16:08:27+00:00</td>\n",
       "      <td>2016-04-29 00:00:00+00:00</td>\n",
       "      <td>56</td>\n",
       "      <td>JARDIM DA PENHA</td>\n",
       "      <td>no</td>\n",
       "      <td>no</td>\n",
       "      <td>no</td>\n",
       "      <td>no</td>\n",
       "      <td>0</td>\n",
       "      <td>0</td>\n",
       "      <td>No</td>\n",
       "    </tr>\n",
       "    <tr>\n",
       "      <th>2</th>\n",
       "      <td>4.262962e+12</td>\n",
       "      <td>5642549</td>\n",
       "      <td>F</td>\n",
       "      <td>2016-04-29 16:19:04+00:00</td>\n",
       "      <td>2016-04-29 00:00:00+00:00</td>\n",
       "      <td>62</td>\n",
       "      <td>MATA DA PRAIA</td>\n",
       "      <td>no</td>\n",
       "      <td>no</td>\n",
       "      <td>no</td>\n",
       "      <td>no</td>\n",
       "      <td>0</td>\n",
       "      <td>0</td>\n",
       "      <td>No</td>\n",
       "    </tr>\n",
       "    <tr>\n",
       "      <th>3</th>\n",
       "      <td>8.679512e+11</td>\n",
       "      <td>5642828</td>\n",
       "      <td>F</td>\n",
       "      <td>2016-04-29 17:29:31+00:00</td>\n",
       "      <td>2016-04-29 00:00:00+00:00</td>\n",
       "      <td>8</td>\n",
       "      <td>PONTAL DE CAMBURI</td>\n",
       "      <td>no</td>\n",
       "      <td>no</td>\n",
       "      <td>no</td>\n",
       "      <td>no</td>\n",
       "      <td>0</td>\n",
       "      <td>0</td>\n",
       "      <td>No</td>\n",
       "    </tr>\n",
       "    <tr>\n",
       "      <th>4</th>\n",
       "      <td>8.841186e+12</td>\n",
       "      <td>5642494</td>\n",
       "      <td>F</td>\n",
       "      <td>2016-04-29 16:07:23+00:00</td>\n",
       "      <td>2016-04-29 00:00:00+00:00</td>\n",
       "      <td>56</td>\n",
       "      <td>JARDIM DA PENHA</td>\n",
       "      <td>no</td>\n",
       "      <td>yes</td>\n",
       "      <td>yes</td>\n",
       "      <td>no</td>\n",
       "      <td>0</td>\n",
       "      <td>0</td>\n",
       "      <td>No</td>\n",
       "    </tr>\n",
       "  </tbody>\n",
       "</table>\n",
       "</div>"
      ],
      "text/plain": [
       "      PatientId  AppointmentID Gender              ScheduledDay  \\\n",
       "0  2.987250e+13        5642903      F 2016-04-29 18:38:08+00:00   \n",
       "1  5.589978e+14        5642503      M 2016-04-29 16:08:27+00:00   \n",
       "2  4.262962e+12        5642549      F 2016-04-29 16:19:04+00:00   \n",
       "3  8.679512e+11        5642828      F 2016-04-29 17:29:31+00:00   \n",
       "4  8.841186e+12        5642494      F 2016-04-29 16:07:23+00:00   \n",
       "\n",
       "             AppointmentDay  Age      Neighbourhood Scholarship Hipertension  \\\n",
       "0 2016-04-29 00:00:00+00:00   62    JARDIM DA PENHA          no          yes   \n",
       "1 2016-04-29 00:00:00+00:00   56    JARDIM DA PENHA          no           no   \n",
       "2 2016-04-29 00:00:00+00:00   62      MATA DA PRAIA          no           no   \n",
       "3 2016-04-29 00:00:00+00:00    8  PONTAL DE CAMBURI          no           no   \n",
       "4 2016-04-29 00:00:00+00:00   56    JARDIM DA PENHA          no          yes   \n",
       "\n",
       "  Diabetes Alcoholism  Handcap  SMS_received no_show  \n",
       "0       no         no        0             0      No  \n",
       "1       no         no        0             0      No  \n",
       "2       no         no        0             0      No  \n",
       "3       no         no        0             0      No  \n",
       "4      yes         no        0             0      No  "
      ]
     },
     "execution_count": 19,
     "metadata": {},
     "output_type": "execute_result"
    }
   ],
   "source": [
    "#confirming changes made\n",
    "da.head()"
   ]
  },
  {
   "cell_type": "markdown",
   "metadata": {},
   "source": [
    "<a id='eda'></a>\n",
    "## Exploratory Data Analysis\n",
    "\n",
    "\n",
    "\n",
    "\n"
   ]
  },
  {
   "cell_type": "markdown",
   "metadata": {},
   "source": [
    "### Research Question 1; What is the percentage of patients that missed the scheduled appointment?\n",
    "\n",
    "> Note: \"Yes\" if the patient did not show up and \"No\" if the patient showed up"
   ]
  },
  {
   "cell_type": "code",
   "execution_count": 20,
   "metadata": {},
   "outputs": [
    {
     "data": {
      "text/plain": [
       "No     88208\n",
       "Yes    22319\n",
       "Name: no_show, dtype: int64"
      ]
     },
     "execution_count": 20,
     "metadata": {},
     "output_type": "execute_result"
    }
   ],
   "source": [
    "#count of unique values in the no_show column\n",
    "da['no_show'].value_counts()"
   ]
  },
  {
   "cell_type": "markdown",
   "metadata": {},
   "source": [
    "> 88208 patients showed up for the appointment and 22319 didn't show up for the appointment"
   ]
  },
  {
   "cell_type": "code",
   "execution_count": 21,
   "metadata": {},
   "outputs": [
    {
     "name": "stdout",
     "output_type": "stream",
     "text": [
      "20% of patients missed their scheduled appointments\n"
     ]
    },
    {
     "data": {
      "image/png": "[encoded data removed]",
      "text/plain": [
       "<Figure size 432x288 with 1 Axes>"
      ]
     },
     "metadata": {
      "needs_background": "light"
     },
     "output_type": "display_data"
    }
   ],
   "source": [
    "appointments = da.shape[0]        #all appointments\n",
    "missed_appointments = da.query('no_show == \"Yes\"')['no_show'].count()    #getting the count of appointments missed\n",
    "missed_app_percent = int(round(missed_appointments / appointments * 100)) #percentage of appointments missed\n",
    "\n",
    "pl = sns.countplot(x=da['no_show'],data=da)               #countplot of dependent variable\n",
    "pl.set_title(\"Attended/Missed\")              #title of plot\n",
    "\n",
    "print(\"{}% of patients missed their scheduled appointments\".format(missed_app_percent))"
   ]
  },
  {
   "cell_type": "markdown",
   "metadata": {},
   "source": [
    "> 20% of the patients did not show up for the appointment"
   ]
  },
  {
   "cell_type": "markdown",
   "metadata": {},
   "source": [
    "### Research Question 2: How does attendance or missing of appointments vary by gender?"
   ]
  },
  {
   "cell_type": "code",
   "execution_count": 22,
   "metadata": {},
   "outputs": [
    {
     "data": {
      "text/plain": [
       "71840"
      ]
     },
     "execution_count": 22,
     "metadata": {},
     "output_type": "execute_result"
    }
   ],
   "source": [
    "#getting the number of female patients scheduled for appointment\n",
    "len(da.query('Gender == \"F\"'))"
   ]
  },
  {
   "cell_type": "markdown",
   "metadata": {},
   "source": [
    "> 71840 out of the total patients scheduled for appointment are females"
   ]
  },
  {
   "cell_type": "code",
   "execution_count": 23,
   "metadata": {
    "scrolled": true
   },
   "outputs": [
    {
     "data": {
      "text/plain": [
       "38687"
      ]
     },
     "execution_count": 23,
     "metadata": {},
     "output_type": "execute_result"
    }
   ],
   "source": [
    "#getting the number of male patients scheduled for appointment\n",
    "len(da.query('Gender == \"M\"'))"
   ]
  },
  {
   "cell_type": "markdown",
   "metadata": {},
   "source": [
    "> 38687 out of the total patients scheduled for appointment are males"
   ]
  },
  {
   "cell_type": "markdown",
   "metadata": {},
   "source": [
    "> **Insights** : There are more females scheduled for the appointment than Males"
   ]
  },
  {
   "cell_type": "code",
   "execution_count": 24,
   "metadata": {
    "scrolled": true
   },
   "outputs": [
    {
     "data": {
      "text/plain": [
       "no_show  Gender\n",
       "No       F         57246\n",
       "         M         30962\n",
       "Yes      F         14594\n",
       "         M          7725\n",
       "Name: Gender, dtype: int64"
      ]
     },
     "execution_count": 24,
     "metadata": {},
     "output_type": "execute_result"
    }
   ],
   "source": [
    "#counting based on no_show and gender groups\n",
    "da.groupby(['no_show','Gender'])['Gender'].count()"
   ]
  },
  {
   "cell_type": "markdown",
   "metadata": {},
   "source": [
    "> Out of the 71840 female patients that were scheduled for appointment,57246 showed up and 14594 didn't show up(approximately 80% of females showed up and 20% didn't)"
   ]
  },
  {
   "cell_type": "markdown",
   "metadata": {},
   "source": [
    "> Out of the 38687 male patients that were scheduled for appointment,30962 showed up and 7725 didn't show up(approximately 80% of males showed up and 20% didn't)"
   ]
  },
  {
   "cell_type": "code",
   "execution_count": 25,
   "metadata": {
    "scrolled": true
   },
   "outputs": [
    {
     "name": "stdout",
     "output_type": "stream",
     "text": [
      "14594 out of the total 71840 female appointments were missed representing 20% of the female appointments\n",
      "7725 out of the total 38687 male appointments were missed representing 20% of the total male appointments\n"
     ]
    },
    {
     "data": {
      "image/png": "[encoded data removed]",
      "text/plain": [
       "<Figure size 432x288 with 1 Axes>"
      ]
     },
     "metadata": {
      "needs_background": "light"
     },
     "output_type": "display_data"
    }
   ],
   "source": [
    "female_appointment = da.query('Gender == \"F\"')['Gender'].count()    #count of female appointments\n",
    "male_appointment = da.query('Gender == \"M\"')['Gender'].count()      #count of male appointments\n",
    "\n",
    "missed_female_appointment = len(da.query('no_show == \"Yes\" and Gender == \"F\"'))   #count of missed female appointments\n",
    "missed_male_appointment = len(da.query('no_show == \"Yes\" and Gender == \"M\"'))     #count of missed male appointments\n",
    "                                       \n",
    "missed_female_percent = int(round(missed_female_appointment/female_appointment * 100)) #percentage of missed female appointments\n",
    "missed_male_percent = int(round(missed_male_appointment/male_appointment * 100))      #percentage of missed male appointments\n",
    "\n",
    "pl = sns.countplot(x=da.Gender,hue=da.no_show,data=da)\n",
    "pl.set_title(\"Attended/Missed\")\n",
    "\n",
    "print(\"{} out of the total {} female appointments were missed representing {}% of the female appointments\"\n",
    "      .format(missed_female_appointment,female_appointment,missed_female_percent))\n",
    "\n",
    "print(\"{} out of the total {} male appointments were missed representing {}% of the total male appointments\"\n",
    "      .format(missed_male_appointment,male_appointment,missed_male_percent))"
   ]
  },
  {
   "cell_type": "markdown",
   "metadata": {},
   "source": [
    "> There isn't much significant difference between the percentage of females who showed up for the appointments and that of males so Gender doesn't seem to have much correlation with showing up for the appointment. \n",
    ">However,the number of females who were scheduled for the appointment were more than males. My assumption is that females tends to care more about medical checkup than males(More data needed to support this)"
   ]
  },
  {
   "cell_type": "markdown",
   "metadata": {},
   "source": [
    "### Research Question 3: Do patients enrolled in Brazilian welfare program tends to show up for the appointments?"
   ]
  },
  {
   "cell_type": "code",
   "execution_count": 26,
   "metadata": {
    "scrolled": true
   },
   "outputs": [
    {
     "data": {
      "text/plain": [
       "no     99666\n",
       "yes    10861\n",
       "Name: Scholarship, dtype: int64"
      ]
     },
     "execution_count": 26,
     "metadata": {},
     "output_type": "execute_result"
    }
   ],
   "source": [
    "#getting count of unique values in Scholarship column\n",
    "da['Scholarship'].value_counts()"
   ]
  },
  {
   "cell_type": "markdown",
   "metadata": {},
   "source": [
    "> The number of patients scheduled not on Brazilian welfare program(99666) is less than those on welfare program(10861) indiating that large percentage of the patients are not on welfare program"
   ]
  },
  {
   "cell_type": "code",
   "execution_count": 27,
   "metadata": {},
   "outputs": [
    {
     "data": {
      "text/plain": [
       "no_show  Scholarship\n",
       "No       no             79925\n",
       "         yes             8283\n",
       "Yes      no             19741\n",
       "         yes             2578\n",
       "Name: Scholarship, dtype: int64"
      ]
     },
     "execution_count": 27,
     "metadata": {},
     "output_type": "execute_result"
    }
   ],
   "source": [
    "#counting based on no_show and Scholarship groups\n",
    "da.groupby(['no_show','Scholarship'])['Scholarship'].count()"
   ]
  },
  {
   "cell_type": "markdown",
   "metadata": {},
   "source": [
    "> Out of the 99666 patients not on welfare program,79925 showed up and 19741 didn't show up for the appointment(approximately 80% showed up and 20% didnt show up)"
   ]
  },
  {
   "cell_type": "markdown",
   "metadata": {},
   "source": [
    "> Out of the 10861 patients on welfare program,8283 showed up and 2578 didn't show up for the appointment(approximately 76% showed up and 24% didnt show up)"
   ]
  },
  {
   "cell_type": "code",
   "execution_count": 28,
   "metadata": {
    "scrolled": true
   },
   "outputs": [
    {
     "name": "stdout",
     "output_type": "stream",
     "text": [
      "2578 out of the total 10861 patients on welfare program missed the appointment representing 24% of the total welfare recipients\n",
      "19741 out of the total 99666 patients not on welfare program missed the appointment representing 20% of the total welfare recipients\n"
     ]
    },
    {
     "data": {
      "image/png": "[encoded data removed]",
      "text/plain": [
       "<Figure size 432x288 with 1 Axes>"
      ]
     },
     "metadata": {
      "needs_background": "light"
     },
     "output_type": "display_data"
    }
   ],
   "source": [
    "scholarship_recipient = da.query('Scholarship == \"yes\"')['Scholarship'].count()  #total patients on welfare benefits\n",
    "no_scholarship_recipient = da.query('Scholarship == \"no\"')['Scholarship'].count() #total patients not on welfare benefits\n",
    " \n",
    "#total patients on welfare benefits who missed appointments\n",
    "missed_scholarship_recipient = len(da.query('no_show == \"Yes\" and Scholarship == \"yes\"'))\n",
    "\n",
    "#total patients not on welfare benefits who missed appointments\n",
    "no_missed_scholarship_recipient = len(da.query('no_show == \"Yes\" and Scholarship == \"no\"'))\n",
    "\n",
    "#percentage of patients on and not on welfare benefits who missed appointments\n",
    "missed_scholarship_percent = int(round(missed_scholarship_recipient/scholarship_recipient * 100))\n",
    "no_missed_scholarship_percent = int(round(no_missed_scholarship_recipient/no_scholarship_recipient * 100))\n",
    "\n",
    "pl = sns.countplot(x=da.Scholarship,hue=da.no_show,data=da)\n",
    "pl.set_title(\"Scholarship/No-Scholarship\")\n",
    "\n",
    "print(\"{} out of the total {} patients on welfare program missed the appointment representing {}% of the total welfare recipients\"\n",
    "      .format(missed_scholarship_recipient,scholarship_recipient,missed_scholarship_percent))\n",
    "\n",
    "print(\"{} out of the total {} patients not on welfare program missed the appointment representing {}% of the total welfare recipients\"\n",
    "      .format(no_missed_scholarship_recipient,no_scholarship_recipient,no_missed_scholarship_percent))"
   ]
  },
  {
   "cell_type": "markdown",
   "metadata": {},
   "source": [
    "> **Insights** : \n",
    "- It seems preference were given to patients not on welfare program in the schedule of appointments given the significant difference in the number of patients on welfare and those not in the appointments\n",
    "- Those not on welfare program tends to be scheduled for appointments and even show up more than to those on welfare program"
   ]
  },
  {
   "cell_type": "markdown",
   "metadata": {},
   "source": [
    "### Research Question 4: Which days of the week were appointments mostly scheduled?"
   ]
  },
  {
   "cell_type": "code",
   "execution_count": 29,
   "metadata": {},
   "outputs": [],
   "source": [
    "da['appointment_day_of_week'] = da['AppointmentDay'].dt.dayofweek      #converting the date to the day of the week\n",
    "\n",
    "#changing each day of the week to corresponding days in words\n",
    "da['appointment_day_of_week'] = da['appointment_day_of_week'].map({0:\"Monday\",1:\"Tuesday\",2:\"Wednesday\",\n",
    "                                                                  3:\"Thursday\",4:\"Friday\",5:\"Saturday\",6:\"Sunday\"})"
   ]
  },
  {
   "cell_type": "markdown",
   "metadata": {},
   "source": [
    "> Converting the \"AppointmentDay\" datetime column to day of week for easy analyis"
   ]
  },
  {
   "cell_type": "code",
   "execution_count": 30,
   "metadata": {
    "scrolled": true
   },
   "outputs": [
    {
     "data": {
      "text/plain": [
       "Wednesday    25867\n",
       "Tuesday      25640\n",
       "Monday       22715\n",
       "Friday       19019\n",
       "Thursday     17247\n",
       "Saturday        39\n",
       "Name: appointment_day_of_week, dtype: int64"
      ]
     },
     "execution_count": 30,
     "metadata": {},
     "output_type": "execute_result"
    }
   ],
   "source": [
    "#count of each unique day\n",
    "da['appointment_day_of_week'].value_counts()"
   ]
  },
  {
   "cell_type": "markdown",
   "metadata": {},
   "source": [
    "> There is no appointment on Sunday and only few appointment(39) on Saturday"
   ]
  },
  {
   "cell_type": "code",
   "execution_count": 31,
   "metadata": {
    "scrolled": true
   },
   "outputs": [
    {
     "data": {
      "image/png": "[encoded data removed]",
      "text/plain": [
       "<Figure size 432x288 with 1 Axes>"
      ]
     },
     "metadata": {
      "needs_background": "light"
     },
     "output_type": "display_data"
    }
   ],
   "source": [
    "#countplot of appointment_day_of week\n",
    "pl = sns.countplot(x=da['appointment_day_of_week'], hue=da.no_show,data=da,\n",
    "                  order=['Monday','Tuesday','Wednesday','Thursday','Friday','Saturday'])\n",
    "pl.set_title(\"Distribution of appointments by day\");\n"
   ]
  },
  {
   "cell_type": "markdown",
   "metadata": {},
   "source": [
    "> This shows the distribution of attended and missed appointments by day.\n",
    "The appointments were majorly scheduled during the weekdays with few(39) occuring on Saturdays and none occuring on Sundays.Wednesdays and  Tuesdays are the days with the highest turn up for the appointments"
   ]
  },
  {
   "cell_type": "markdown",
   "metadata": {},
   "source": [
    "### Research Question 5: What is the age distribution of patients scheduled for the appointment?"
   ]
  },
  {
   "cell_type": "code",
   "execution_count": 32,
   "metadata": {
    "scrolled": true
   },
   "outputs": [
    {
     "data": {
      "text/plain": [
       "37.08887421173107"
      ]
     },
     "execution_count": 32,
     "metadata": {},
     "output_type": "execute_result"
    }
   ],
   "source": [
    "#Average age of patients scheduled for appointment\n",
    "da['Age'].mean()"
   ]
  },
  {
   "cell_type": "markdown",
   "metadata": {},
   "source": [
    "> The average age of patients scheduled for appointment is 37"
   ]
  },
  {
   "cell_type": "code",
   "execution_count": 33,
   "metadata": {
    "scrolled": true
   },
   "outputs": [
    {
     "name": "stdout",
     "output_type": "stream",
     "text": [
      "The minimum age of patients is -1 :\n",
      "The maximum age of patients is 115 :\n",
      "The unique ages of patients is [ 62  56   8  76  23  39  21  19  30  29  22  28  54  15  50  40  46   4\n",
      "  13  65  45  51  32  12  61  38  79  18  63  64  85  59  55  71  49  78\n",
      "  31  58  27   6   2  11   7   0   3   1  69  68  60  67  36  10  35  20\n",
      "  26  34  33  16  42   5  47  17  41  44  37  24  66  77  81  70  53  75\n",
      "  73  52  74  43  89  57  14   9  48  83  72  25  80  87  88  84  82  90\n",
      "  94  86  91  98  92  96  93  95  97 102 115 100  99  -1] :\n"
     ]
    }
   ],
   "source": [
    "#getting statistical summary and unique values of Age column\n",
    "print(\"The minimum age of patients is {} :\".format(da['Age'].min()))\n",
    "print(\"The maximum age of patients is {} :\".format(da['Age'].max()))\n",
    "print(\"The unique ages of patients is {} :\".format(da['Age'].unique()))"
   ]
  },
  {
   "cell_type": "markdown",
   "metadata": {},
   "source": [
    "> The oldest of the patients scheduled for appointment is 115years and the minimum is -1. However since a person's age cannot be -1,I will be checking for the number of time the age is -1 to  make decision on what to do about it"
   ]
  },
  {
   "cell_type": "code",
   "execution_count": 34,
   "metadata": {},
   "outputs": [
    {
     "data": {
      "text/plain": [
       "1"
      ]
     },
     "execution_count": 34,
     "metadata": {},
     "output_type": "execute_result"
    }
   ],
   "source": [
    "#checking the number of time age of -1 occurs\n",
    "len(da.query('Age == \"-1\"'))"
   ]
  },
  {
   "cell_type": "markdown",
   "metadata": {},
   "source": [
    "> The error seems to occur once so rather than dropping the row, it can be imputed with age 1 as there is a possibility the age of the patient could be 1"
   ]
  },
  {
   "cell_type": "code",
   "execution_count": 35,
   "metadata": {},
   "outputs": [],
   "source": [
    "#changing age of -1 to 0\n",
    "da['Age'].replace(to_replace={-1:0},inplace=True)"
   ]
  },
  {
   "cell_type": "code",
   "execution_count": 36,
   "metadata": {
    "scrolled": true
   },
   "outputs": [
    {
     "data": {
      "text/plain": [
       "0      3540\n",
       "1      2273\n",
       "52     1746\n",
       "49     1652\n",
       "53     1651\n",
       "       ... \n",
       "98        6\n",
       "115       5\n",
       "100       4\n",
       "102       2\n",
       "99        1\n",
       "Name: Age, Length: 103, dtype: int64"
      ]
     },
     "execution_count": 36,
     "metadata": {},
     "output_type": "execute_result"
    }
   ],
   "source": [
    "#checking unique value counts for confirmation\n",
    "da['Age'].value_counts()"
   ]
  },
  {
   "cell_type": "code",
   "execution_count": 37,
   "metadata": {
    "scrolled": true
   },
   "outputs": [
    {
     "data": {
      "text/plain": [
       "count    110527.000000\n",
       "mean         37.088883\n",
       "std          23.110190\n",
       "min           0.000000\n",
       "25%          18.000000\n",
       "50%          37.000000\n",
       "75%          55.000000\n",
       "max         115.000000\n",
       "Name: Age, dtype: float64"
      ]
     },
     "execution_count": 37,
     "metadata": {},
     "output_type": "execute_result"
    }
   ],
   "source": [
    "#getting statistical summary of Age column\n",
    "da['Age'].describe()"
   ]
  },
  {
   "cell_type": "markdown",
   "metadata": {},
   "source": [
    "> The average and median age is 37. Maximum age is 115 and the minimum is 0"
   ]
  },
  {
   "cell_type": "code",
   "execution_count": 38,
   "metadata": {},
   "outputs": [
    {
     "data": {
      "text/plain": [
       "<AxesSubplot:>"
      ]
     },
     "execution_count": 38,
     "metadata": {},
     "output_type": "execute_result"
    },
    {
     "data": {
      "image/png": "[encoded data removed]",
      "text/plain": [
       "<Figure size 432x288 with 1 Axes>"
      ]
     },
     "metadata": {
      "needs_background": "light"
     },
     "output_type": "display_data"
    }
   ],
   "source": [
    "#box plot to get summary of age column\n",
    "da.boxplot(column=\"Age\")"
   ]
  },
  {
   "cell_type": "markdown",
   "metadata": {},
   "source": [
    "> The Age column contains outliers,this is due to the patients that are of age 115. However,age 0f 115 is not improbable so the ouliers will be taken into consideration"
   ]
  },
  {
   "cell_type": "code",
   "execution_count": 39,
   "metadata": {},
   "outputs": [
    {
     "data": {
      "text/plain": [
       "Yes    3\n",
       "No     2\n",
       "Name: no_show, dtype: int64"
      ]
     },
     "execution_count": 39,
     "metadata": {},
     "output_type": "execute_result"
    }
   ],
   "source": [
    "#how many patients of ae 115 showed up or didn't show up for the appointment?\n",
    "da.query('Age == \"115\"')['no_show'].value_counts()"
   ]
  },
  {
   "cell_type": "markdown",
   "metadata": {},
   "source": [
    "> Out of the five patient of Age 115years who were scheduled for appointment, 2 showed up"
   ]
  },
  {
   "cell_type": "code",
   "execution_count": 40,
   "metadata": {},
   "outputs": [
    {
     "data": {
      "image/png": "[encoded data removed]",
      "text/plain": [
       "<Figure size 432x288 with 1 Axes>"
      ]
     },
     "metadata": {
      "needs_background": "light"
     },
     "output_type": "display_data"
    }
   ],
   "source": [
    "#distribution of ages of patients\n",
    "da['Age'].hist().set_xlabel(\"Ages of patients\");"
   ]
  },
  {
   "cell_type": "markdown",
   "metadata": {},
   "source": [
    "> THe age distribution of patients showed that most of the patients are within the age range of 0-60 with a lot of infants being scheduled for the appointments"
   ]
  },
  {
   "cell_type": "markdown",
   "metadata": {},
   "source": [
    "### Research Question 6:  Which age range of patients who showed up for the appointment the most?"
   ]
  },
  {
   "cell_type": "markdown",
   "metadata": {},
   "source": [
    "> Since the age_range column doesn't exist,there is a need to categorize the ages of patients using ages"
   ]
  },
  {
   "cell_type": "code",
   "execution_count": 41,
   "metadata": {},
   "outputs": [],
   "source": [
    "#dividing into ranges\n",
    "da['age_range'] = pd.cut(x=da['Age'],bins=[0,20,40,60,80,100,120])"
   ]
  },
  {
   "cell_type": "markdown",
   "metadata": {},
   "source": [
    "> Dividing the data into ranges 0-20,20-40,40-60,60-80,80-100,100-120"
   ]
  },
  {
   "cell_type": "code",
   "execution_count": 42,
   "metadata": {
    "scrolled": true
   },
   "outputs": [
    {
     "data": {
      "text/plain": [
       "100957    (20, 40]\n",
       "105659    (40, 60]\n",
       "56543     (40, 60]\n",
       "18424     (60, 80]\n",
       "5974      (40, 60]\n",
       "Name: age_range, dtype: category\n",
       "Categories (6, interval[int64]): [(0, 20] < (20, 40] < (40, 60] < (60, 80] < (80, 100] < (100, 120]]"
      ]
     },
     "execution_count": 42,
     "metadata": {},
     "output_type": "execute_result"
    }
   ],
   "source": [
    "#checking the ranges for confirmation\n",
    "da['age_range'].sample(5)"
   ]
  },
  {
   "cell_type": "code",
   "execution_count": 43,
   "metadata": {},
   "outputs": [
    {
     "data": {
      "text/plain": [
       "Text(0.5, 1.0, 'Count of Age ranges of patients')"
      ]
     },
     "execution_count": 43,
     "metadata": {},
     "output_type": "execute_result"
    },
    {
     "data": {
      "image/png": "[encoded data removed]",
      "text/plain": [
       "<Figure size 432x288 with 1 Axes>"
      ]
     },
     "metadata": {
      "needs_background": "light"
     },
     "output_type": "display_data"
    }
   ],
   "source": [
    "#countplot of age_range column\n",
    "pl = sns.countplot(x=da['age_range'],data=da,color=\"blue\")\n",
    "pl.set_title(\"Count of Age ranges of patients\")"
   ]
  },
  {
   "cell_type": "markdown",
   "metadata": {},
   "source": [
    "> 40-60 is the age range with the highest number of patients with the range 100-120 consisting of only few patients\n",
    "How about the age range of patients who showed up the most for the appointment?"
   ]
  },
  {
   "cell_type": "code",
   "execution_count": 44,
   "metadata": {},
   "outputs": [
    {
     "data": {
      "text/plain": [
       "Text(0.5, 1.0, 'Count of Age ranges of patients')"
      ]
     },
     "execution_count": 44,
     "metadata": {},
     "output_type": "execute_result"
    },
    {
     "data": {
      "image/png": "[encoded data removed]",
      "text/plain": [
       "<Figure size 432x288 with 1 Axes>"
      ]
     },
     "metadata": {
      "needs_background": "light"
     },
     "output_type": "display_data"
    }
   ],
   "source": [
    "pl = sns.countplot(x='age_range',hue='no_show',data=da);\n",
    "pl.set_title(\"Count of Age ranges of patients\")"
   ]
  },
  {
   "cell_type": "markdown",
   "metadata": {},
   "source": [
    "> The age range scheduled for appointment the most is (40-60)years. \n",
    "The number of patients scheduled increased between 0-60 years.\n",
    "The number of patients scheduled for appointment decreased from ages above 60"
   ]
  },
  {
   "cell_type": "code",
   "execution_count": 45,
   "metadata": {},
   "outputs": [],
   "source": [
    "#getting value_counts by grouping by age_range and no_show \n",
    "new_c = da.groupby('age_range')['no_show'].value_counts(normalize=True)\n",
    "\n",
    "#creating a percent_age variable\n",
    "new_c = new_c.mul(100).rename('Percent_age').reset_index()"
   ]
  },
  {
   "cell_type": "code",
   "execution_count": 46,
   "metadata": {},
   "outputs": [
    {
     "data": {
      "image/png": "[encoded data removed]",
      "text/plain": [
       "<Figure size 412x360 with 1 Axes>"
      ]
     },
     "metadata": {
      "needs_background": "light"
     },
     "output_type": "display_data"
    }
   ],
   "source": [
    "#catplot to show percentage of age_ranges\n",
    "hl = sns.catplot(x='age_range', y='Percent_age', hue='no_show', kind='bar', data=new_c)"
   ]
  },
  {
   "cell_type": "markdown",
   "metadata": {},
   "source": [
    "> The 60-80 years age range has the highest show up percentage and the least no-show up percentage. For ages between 40-100 years,the show up rate is above 80%"
   ]
  },
  {
   "cell_type": "markdown",
   "metadata": {},
   "source": [
    "### Research Question 7: **How does the days between the scheduled and appointment day affects show up rate?**"
   ]
  },
  {
   "cell_type": "markdown",
   "metadata": {},
   "source": [
    "> Since there is no days between scheduled and appointed day,a column will be created for it"
   ]
  },
  {
   "cell_type": "code",
   "execution_count": 47,
   "metadata": {},
   "outputs": [],
   "source": [
    "#creating the awaiting days column\n",
    "da['awaiting_days'] = (da.AppointmentDay - da. ScheduledDay).dt.days"
   ]
  },
  {
   "cell_type": "markdown",
   "metadata": {},
   "source": [
    "> The awaiting day is created by getting the interval between the appointment day and scheduled day"
   ]
  },
  {
   "cell_type": "code",
   "execution_count": 48,
   "metadata": {},
   "outputs": [
    {
     "data": {
      "text/html": [
       "<div>\n",
       "<style scoped>\n",
       "    .dataframe tbody tr th:only-of-type {\n",
       "        vertical-align: middle;\n",
       "    }\n",
       "\n",
       "    .dataframe tbody tr th {\n",
       "        vertical-align: top;\n",
       "    }\n",
       "\n",
       "    .dataframe thead th {\n",
       "        text-align: right;\n",
       "    }\n",
       "</style>\n",
       "<table border=\"1\" class=\"dataframe\">\n",
       "  <thead>\n",
       "    <tr style=\"text-align: right;\">\n",
       "      <th></th>\n",
       "      <th>PatientId</th>\n",
       "      <th>AppointmentID</th>\n",
       "      <th>Gender</th>\n",
       "      <th>ScheduledDay</th>\n",
       "      <th>AppointmentDay</th>\n",
       "      <th>Age</th>\n",
       "      <th>Neighbourhood</th>\n",
       "      <th>Scholarship</th>\n",
       "      <th>Hipertension</th>\n",
       "      <th>Diabetes</th>\n",
       "      <th>Alcoholism</th>\n",
       "      <th>Handcap</th>\n",
       "      <th>SMS_received</th>\n",
       "      <th>no_show</th>\n",
       "      <th>appointment_day_of_week</th>\n",
       "      <th>age_range</th>\n",
       "      <th>awaiting_days</th>\n",
       "    </tr>\n",
       "  </thead>\n",
       "  <tbody>\n",
       "    <tr>\n",
       "      <th>0</th>\n",
       "      <td>2.987250e+13</td>\n",
       "      <td>5642903</td>\n",
       "      <td>F</td>\n",
       "      <td>2016-04-29 18:38:08+00:00</td>\n",
       "      <td>2016-04-29 00:00:00+00:00</td>\n",
       "      <td>62</td>\n",
       "      <td>JARDIM DA PENHA</td>\n",
       "      <td>no</td>\n",
       "      <td>yes</td>\n",
       "      <td>no</td>\n",
       "      <td>no</td>\n",
       "      <td>0</td>\n",
       "      <td>0</td>\n",
       "      <td>No</td>\n",
       "      <td>Friday</td>\n",
       "      <td>(60, 80]</td>\n",
       "      <td>-1</td>\n",
       "    </tr>\n",
       "    <tr>\n",
       "      <th>1</th>\n",
       "      <td>5.589978e+14</td>\n",
       "      <td>5642503</td>\n",
       "      <td>M</td>\n",
       "      <td>2016-04-29 16:08:27+00:00</td>\n",
       "      <td>2016-04-29 00:00:00+00:00</td>\n",
       "      <td>56</td>\n",
       "      <td>JARDIM DA PENHA</td>\n",
       "      <td>no</td>\n",
       "      <td>no</td>\n",
       "      <td>no</td>\n",
       "      <td>no</td>\n",
       "      <td>0</td>\n",
       "      <td>0</td>\n",
       "      <td>No</td>\n",
       "      <td>Friday</td>\n",
       "      <td>(40, 60]</td>\n",
       "      <td>-1</td>\n",
       "    </tr>\n",
       "    <tr>\n",
       "      <th>2</th>\n",
       "      <td>4.262962e+12</td>\n",
       "      <td>5642549</td>\n",
       "      <td>F</td>\n",
       "      <td>2016-04-29 16:19:04+00:00</td>\n",
       "      <td>2016-04-29 00:00:00+00:00</td>\n",
       "      <td>62</td>\n",
       "      <td>MATA DA PRAIA</td>\n",
       "      <td>no</td>\n",
       "      <td>no</td>\n",
       "      <td>no</td>\n",
       "      <td>no</td>\n",
       "      <td>0</td>\n",
       "      <td>0</td>\n",
       "      <td>No</td>\n",
       "      <td>Friday</td>\n",
       "      <td>(60, 80]</td>\n",
       "      <td>-1</td>\n",
       "    </tr>\n",
       "    <tr>\n",
       "      <th>3</th>\n",
       "      <td>8.679512e+11</td>\n",
       "      <td>5642828</td>\n",
       "      <td>F</td>\n",
       "      <td>2016-04-29 17:29:31+00:00</td>\n",
       "      <td>2016-04-29 00:00:00+00:00</td>\n",
       "      <td>8</td>\n",
       "      <td>PONTAL DE CAMBURI</td>\n",
       "      <td>no</td>\n",
       "      <td>no</td>\n",
       "      <td>no</td>\n",
       "      <td>no</td>\n",
       "      <td>0</td>\n",
       "      <td>0</td>\n",
       "      <td>No</td>\n",
       "      <td>Friday</td>\n",
       "      <td>(0, 20]</td>\n",
       "      <td>-1</td>\n",
       "    </tr>\n",
       "    <tr>\n",
       "      <th>4</th>\n",
       "      <td>8.841186e+12</td>\n",
       "      <td>5642494</td>\n",
       "      <td>F</td>\n",
       "      <td>2016-04-29 16:07:23+00:00</td>\n",
       "      <td>2016-04-29 00:00:00+00:00</td>\n",
       "      <td>56</td>\n",
       "      <td>JARDIM DA PENHA</td>\n",
       "      <td>no</td>\n",
       "      <td>yes</td>\n",
       "      <td>yes</td>\n",
       "      <td>no</td>\n",
       "      <td>0</td>\n",
       "      <td>0</td>\n",
       "      <td>No</td>\n",
       "      <td>Friday</td>\n",
       "      <td>(40, 60]</td>\n",
       "      <td>-1</td>\n",
       "    </tr>\n",
       "  </tbody>\n",
       "</table>\n",
       "</div>"
      ],
      "text/plain": [
       "      PatientId  AppointmentID Gender              ScheduledDay  \\\n",
       "0  2.987250e+13        5642903      F 2016-04-29 18:38:08+00:00   \n",
       "1  5.589978e+14        5642503      M 2016-04-29 16:08:27+00:00   \n",
       "2  4.262962e+12        5642549      F 2016-04-29 16:19:04+00:00   \n",
       "3  8.679512e+11        5642828      F 2016-04-29 17:29:31+00:00   \n",
       "4  8.841186e+12        5642494      F 2016-04-29 16:07:23+00:00   \n",
       "\n",
       "             AppointmentDay  Age      Neighbourhood Scholarship Hipertension  \\\n",
       "0 2016-04-29 00:00:00+00:00   62    JARDIM DA PENHA          no          yes   \n",
       "1 2016-04-29 00:00:00+00:00   56    JARDIM DA PENHA          no           no   \n",
       "2 2016-04-29 00:00:00+00:00   62      MATA DA PRAIA          no           no   \n",
       "3 2016-04-29 00:00:00+00:00    8  PONTAL DE CAMBURI          no           no   \n",
       "4 2016-04-29 00:00:00+00:00   56    JARDIM DA PENHA          no          yes   \n",
       "\n",
       "  Diabetes Alcoholism  Handcap  SMS_received no_show appointment_day_of_week  \\\n",
       "0       no         no        0             0      No                  Friday   \n",
       "1       no         no        0             0      No                  Friday   \n",
       "2       no         no        0             0      No                  Friday   \n",
       "3       no         no        0             0      No                  Friday   \n",
       "4      yes         no        0             0      No                  Friday   \n",
       "\n",
       "  age_range  awaiting_days  \n",
       "0  (60, 80]             -1  \n",
       "1  (40, 60]             -1  \n",
       "2  (60, 80]             -1  \n",
       "3   (0, 20]             -1  \n",
       "4  (40, 60]             -1  "
      ]
     },
     "execution_count": 48,
     "metadata": {},
     "output_type": "execute_result"
    }
   ],
   "source": [
    "#confirming the awaiting_days column exist\n",
    "da.head()"
   ]
  },
  {
   "cell_type": "markdown",
   "metadata": {},
   "source": [
    "> Number of days cannot be negative however some values in the awaiting_days column are negative so more exploration is needed to be done on the column"
   ]
  },
  {
   "cell_type": "code",
   "execution_count": 49,
   "metadata": {},
   "outputs": [
    {
     "data": {
      "text/plain": [
       "array([ -1,   1,   2,   0,   3,   8,  28,   9,  22,  10,  17,  16,  13,\n",
       "        27,  23,  20,  14,  15,  21,  42,  29,  30,  41,  31,  55,  44,\n",
       "        45,  38,  36,  37,  43,  49,  59,  51,  52,  64,  66,  90,  65,\n",
       "        83,  77,  86, 114, 108,  62,  69,  71,  56,  57,  50,  58,  40,\n",
       "        48,  72,  63,  19,  32,  33,   5,  34,  35,  11,  12,  39,  46,\n",
       "         7,   4,   6,  24,  25,  47,  26,  18,  60,  54,  61, 175,  53,\n",
       "        76,  68,  82,  75,  88,  80, 102,  78,  67,  74,  84, 111,  -2,\n",
       "        79,  85,  97,  93, 141, 154, 161, 168, 103, 132, 124,  95,  87,\n",
       "        89, 150, 125, 126, 110, 118,  73,  70,  81, 107, 109, 101, 121,\n",
       "       100, 104,  91,  96,  92, 106,  94,  -7, 138, 131, 178, 116, 145,\n",
       "       122], dtype=int64)"
      ]
     },
     "execution_count": 49,
     "metadata": {},
     "output_type": "execute_result"
    }
   ],
   "source": [
    "#checking the unique values in the column\n",
    "da['awaiting_days'].unique()"
   ]
  },
  {
   "cell_type": "markdown",
   "metadata": {},
   "source": [
    "> The unexpected values in the column are -1,-2 and -7. How about checking the number of times they occur?"
   ]
  },
  {
   "cell_type": "code",
   "execution_count": 50,
   "metadata": {},
   "outputs": [
    {
     "name": "stdout",
     "output_type": "stream",
     "text": [
      "The number of time awaiting days of -1 occurs is 38563:\n",
      "The number of time awaiting days of -2 occurs is 4:\n",
      "The number of time awaiting days of -2 occurs is 1:\n",
      "The number of times awaiting days less than zero occurs is:\n"
     ]
    }
   ],
   "source": [
    "#getting number of time awaiting_days of -1,-2 and -7 occurs\n",
    "print(\"The number of time awaiting days of -1 occurs is {}:\".format(len(da.query('awaiting_days == -1'))))\n",
    "print(\"The number of time awaiting days of -2 occurs is {}:\".format(len(da.query('awaiting_days == -2'))))\n",
    "print(\"The number of time awaiting days of -2 occurs is {}:\".format(len(da.query('awaiting_days == -7'))))\n",
    "print(\"The number of times awaiting days less than zero occurs is:\".format(len(da.query('awaiting_days < 0'))))"
   ]
  },
  {
   "cell_type": "markdown",
   "metadata": {},
   "source": [
    "> Most of the awaiting days less than zero contains a value of -1(38563). There is a need to investigate the appointment date and scheduled days with awaiting days of -1"
   ]
  },
  {
   "cell_type": "code",
   "execution_count": 51,
   "metadata": {},
   "outputs": [
    {
     "data": {
      "text/html": [
       "<div>\n",
       "<style scoped>\n",
       "    .dataframe tbody tr th:only-of-type {\n",
       "        vertical-align: middle;\n",
       "    }\n",
       "\n",
       "    .dataframe tbody tr th {\n",
       "        vertical-align: top;\n",
       "    }\n",
       "\n",
       "    .dataframe thead th {\n",
       "        text-align: right;\n",
       "    }\n",
       "</style>\n",
       "<table border=\"1\" class=\"dataframe\">\n",
       "  <thead>\n",
       "    <tr style=\"text-align: right;\">\n",
       "      <th></th>\n",
       "      <th>AppointmentDay</th>\n",
       "      <th>ScheduledDay</th>\n",
       "    </tr>\n",
       "  </thead>\n",
       "  <tbody>\n",
       "    <tr>\n",
       "      <th>0</th>\n",
       "      <td>2016-04-29 00:00:00+00:00</td>\n",
       "      <td>2016-04-29 18:38:08+00:00</td>\n",
       "    </tr>\n",
       "    <tr>\n",
       "      <th>1</th>\n",
       "      <td>2016-04-29 00:00:00+00:00</td>\n",
       "      <td>2016-04-29 16:08:27+00:00</td>\n",
       "    </tr>\n",
       "    <tr>\n",
       "      <th>2</th>\n",
       "      <td>2016-04-29 00:00:00+00:00</td>\n",
       "      <td>2016-04-29 16:19:04+00:00</td>\n",
       "    </tr>\n",
       "    <tr>\n",
       "      <th>3</th>\n",
       "      <td>2016-04-29 00:00:00+00:00</td>\n",
       "      <td>2016-04-29 17:29:31+00:00</td>\n",
       "    </tr>\n",
       "    <tr>\n",
       "      <th>4</th>\n",
       "      <td>2016-04-29 00:00:00+00:00</td>\n",
       "      <td>2016-04-29 16:07:23+00:00</td>\n",
       "    </tr>\n",
       "    <tr>\n",
       "      <th>8</th>\n",
       "      <td>2016-04-29 00:00:00+00:00</td>\n",
       "      <td>2016-04-29 08:02:16+00:00</td>\n",
       "    </tr>\n",
       "    <tr>\n",
       "      <th>19</th>\n",
       "      <td>2016-04-29 00:00:00+00:00</td>\n",
       "      <td>2016-04-29 10:43:14+00:00</td>\n",
       "    </tr>\n",
       "    <tr>\n",
       "      <th>24</th>\n",
       "      <td>2016-04-29 00:00:00+00:00</td>\n",
       "      <td>2016-04-29 14:19:19+00:00</td>\n",
       "    </tr>\n",
       "    <tr>\n",
       "      <th>26</th>\n",
       "      <td>2016-04-29 00:00:00+00:00</td>\n",
       "      <td>2016-04-29 14:19:42+00:00</td>\n",
       "    </tr>\n",
       "    <tr>\n",
       "      <th>28</th>\n",
       "      <td>2016-04-29 00:00:00+00:00</td>\n",
       "      <td>2016-04-29 15:48:02+00:00</td>\n",
       "    </tr>\n",
       "    <tr>\n",
       "      <th>29</th>\n",
       "      <td>2016-04-29 00:00:00+00:00</td>\n",
       "      <td>2016-04-29 15:16:29+00:00</td>\n",
       "    </tr>\n",
       "    <tr>\n",
       "      <th>32</th>\n",
       "      <td>2016-04-29 00:00:00+00:00</td>\n",
       "      <td>2016-04-29 07:30:27+00:00</td>\n",
       "    </tr>\n",
       "    <tr>\n",
       "      <th>34</th>\n",
       "      <td>2016-04-29 00:00:00+00:00</td>\n",
       "      <td>2016-04-29 07:34:30+00:00</td>\n",
       "    </tr>\n",
       "    <tr>\n",
       "      <th>35</th>\n",
       "      <td>2016-04-29 00:00:00+00:00</td>\n",
       "      <td>2016-04-29 07:34:42+00:00</td>\n",
       "    </tr>\n",
       "    <tr>\n",
       "      <th>36</th>\n",
       "      <td>2016-04-29 00:00:00+00:00</td>\n",
       "      <td>2016-04-29 07:35:19+00:00</td>\n",
       "    </tr>\n",
       "    <tr>\n",
       "      <th>37</th>\n",
       "      <td>2016-04-29 00:00:00+00:00</td>\n",
       "      <td>2016-04-29 07:35:56+00:00</td>\n",
       "    </tr>\n",
       "    <tr>\n",
       "      <th>39</th>\n",
       "      <td>2016-04-29 00:00:00+00:00</td>\n",
       "      <td>2016-04-29 09:21:13+00:00</td>\n",
       "    </tr>\n",
       "    <tr>\n",
       "      <th>43</th>\n",
       "      <td>2016-04-29 00:00:00+00:00</td>\n",
       "      <td>2016-04-29 14:02:16+00:00</td>\n",
       "    </tr>\n",
       "    <tr>\n",
       "      <th>53</th>\n",
       "      <td>2016-04-29 00:00:00+00:00</td>\n",
       "      <td>2016-04-29 07:30:31+00:00</td>\n",
       "    </tr>\n",
       "    <tr>\n",
       "      <th>54</th>\n",
       "      <td>2016-04-29 00:00:00+00:00</td>\n",
       "      <td>2016-04-29 07:46:08+00:00</td>\n",
       "    </tr>\n",
       "    <tr>\n",
       "      <th>55</th>\n",
       "      <td>2016-04-29 00:00:00+00:00</td>\n",
       "      <td>2016-04-29 07:37:45+00:00</td>\n",
       "    </tr>\n",
       "    <tr>\n",
       "      <th>57</th>\n",
       "      <td>2016-04-29 00:00:00+00:00</td>\n",
       "      <td>2016-04-29 08:03:51+00:00</td>\n",
       "    </tr>\n",
       "    <tr>\n",
       "      <th>58</th>\n",
       "      <td>2016-04-29 00:00:00+00:00</td>\n",
       "      <td>2016-04-29 07:50:15+00:00</td>\n",
       "    </tr>\n",
       "    <tr>\n",
       "      <th>59</th>\n",
       "      <td>2016-04-29 00:00:00+00:00</td>\n",
       "      <td>2016-04-29 08:08:43+00:00</td>\n",
       "    </tr>\n",
       "    <tr>\n",
       "      <th>66</th>\n",
       "      <td>2016-04-29 00:00:00+00:00</td>\n",
       "      <td>2016-04-29 08:12:27+00:00</td>\n",
       "    </tr>\n",
       "    <tr>\n",
       "      <th>67</th>\n",
       "      <td>2016-04-29 00:00:00+00:00</td>\n",
       "      <td>2016-04-29 08:53:02+00:00</td>\n",
       "    </tr>\n",
       "    <tr>\n",
       "      <th>72</th>\n",
       "      <td>2016-04-29 00:00:00+00:00</td>\n",
       "      <td>2016-04-29 07:37:37+00:00</td>\n",
       "    </tr>\n",
       "    <tr>\n",
       "      <th>77</th>\n",
       "      <td>2016-04-29 00:00:00+00:00</td>\n",
       "      <td>2016-04-29 17:06:27+00:00</td>\n",
       "    </tr>\n",
       "    <tr>\n",
       "      <th>82</th>\n",
       "      <td>2016-04-29 00:00:00+00:00</td>\n",
       "      <td>2016-04-29 08:36:19+00:00</td>\n",
       "    </tr>\n",
       "    <tr>\n",
       "      <th>83</th>\n",
       "      <td>2016-04-29 00:00:00+00:00</td>\n",
       "      <td>2016-04-29 07:20:46+00:00</td>\n",
       "    </tr>\n",
       "  </tbody>\n",
       "</table>\n",
       "</div>"
      ],
      "text/plain": [
       "              AppointmentDay              ScheduledDay\n",
       "0  2016-04-29 00:00:00+00:00 2016-04-29 18:38:08+00:00\n",
       "1  2016-04-29 00:00:00+00:00 2016-04-29 16:08:27+00:00\n",
       "2  2016-04-29 00:00:00+00:00 2016-04-29 16:19:04+00:00\n",
       "3  2016-04-29 00:00:00+00:00 2016-04-29 17:29:31+00:00\n",
       "4  2016-04-29 00:00:00+00:00 2016-04-29 16:07:23+00:00\n",
       "8  2016-04-29 00:00:00+00:00 2016-04-29 08:02:16+00:00\n",
       "19 2016-04-29 00:00:00+00:00 2016-04-29 10:43:14+00:00\n",
       "24 2016-04-29 00:00:00+00:00 2016-04-29 14:19:19+00:00\n",
       "26 2016-04-29 00:00:00+00:00 2016-04-29 14:19:42+00:00\n",
       "28 2016-04-29 00:00:00+00:00 2016-04-29 15:48:02+00:00\n",
       "29 2016-04-29 00:00:00+00:00 2016-04-29 15:16:29+00:00\n",
       "32 2016-04-29 00:00:00+00:00 2016-04-29 07:30:27+00:00\n",
       "34 2016-04-29 00:00:00+00:00 2016-04-29 07:34:30+00:00\n",
       "35 2016-04-29 00:00:00+00:00 2016-04-29 07:34:42+00:00\n",
       "36 2016-04-29 00:00:00+00:00 2016-04-29 07:35:19+00:00\n",
       "37 2016-04-29 00:00:00+00:00 2016-04-29 07:35:56+00:00\n",
       "39 2016-04-29 00:00:00+00:00 2016-04-29 09:21:13+00:00\n",
       "43 2016-04-29 00:00:00+00:00 2016-04-29 14:02:16+00:00\n",
       "53 2016-04-29 00:00:00+00:00 2016-04-29 07:30:31+00:00\n",
       "54 2016-04-29 00:00:00+00:00 2016-04-29 07:46:08+00:00\n",
       "55 2016-04-29 00:00:00+00:00 2016-04-29 07:37:45+00:00\n",
       "57 2016-04-29 00:00:00+00:00 2016-04-29 08:03:51+00:00\n",
       "58 2016-04-29 00:00:00+00:00 2016-04-29 07:50:15+00:00\n",
       "59 2016-04-29 00:00:00+00:00 2016-04-29 08:08:43+00:00\n",
       "66 2016-04-29 00:00:00+00:00 2016-04-29 08:12:27+00:00\n",
       "67 2016-04-29 00:00:00+00:00 2016-04-29 08:53:02+00:00\n",
       "72 2016-04-29 00:00:00+00:00 2016-04-29 07:37:37+00:00\n",
       "77 2016-04-29 00:00:00+00:00 2016-04-29 17:06:27+00:00\n",
       "82 2016-04-29 00:00:00+00:00 2016-04-29 08:36:19+00:00\n",
       "83 2016-04-29 00:00:00+00:00 2016-04-29 07:20:46+00:00"
      ]
     },
     "execution_count": 51,
     "metadata": {},
     "output_type": "execute_result"
    }
   ],
   "source": [
    "#checking the appointment day and schedule with awaiting_days of -1\n",
    "da.query('awaiting_days == -1')[['AppointmentDay','ScheduledDay']].head(30)"
   ]
  },
  {
   "cell_type": "markdown",
   "metadata": {},
   "source": [
    "> Most of the awaiting_days of -1 have appointment day and Scheduled day on the same day so the awaiting_days of -1 can be changed to 0. The error probably occurred due to the time"
   ]
  },
  {
   "cell_type": "code",
   "execution_count": 52,
   "metadata": {},
   "outputs": [],
   "source": [
    "#replacing awaiting_days of -1 with 0\n",
    "da['awaiting_days'].replace(to_replace={-1:0},inplace=True)"
   ]
  },
  {
   "cell_type": "code",
   "execution_count": 53,
   "metadata": {
    "scrolled": true
   },
   "outputs": [
    {
     "data": {
      "text/plain": [
       "0"
      ]
     },
     "execution_count": 53,
     "metadata": {},
     "output_type": "execute_result"
    }
   ],
   "source": [
    "#confirming the change \n",
    "len(da.query('awaiting_days == -1'))"
   ]
  },
  {
   "cell_type": "markdown",
   "metadata": {},
   "source": [
    " > Now,there is a need to check the columns with awaiting_days of -2 and -7"
   ]
  },
  {
   "cell_type": "code",
   "execution_count": 54,
   "metadata": {},
   "outputs": [
    {
     "data": {
      "text/html": [
       "<div>\n",
       "<style scoped>\n",
       "    .dataframe tbody tr th:only-of-type {\n",
       "        vertical-align: middle;\n",
       "    }\n",
       "\n",
       "    .dataframe tbody tr th {\n",
       "        vertical-align: top;\n",
       "    }\n",
       "\n",
       "    .dataframe thead th {\n",
       "        text-align: right;\n",
       "    }\n",
       "</style>\n",
       "<table border=\"1\" class=\"dataframe\">\n",
       "  <thead>\n",
       "    <tr style=\"text-align: right;\">\n",
       "      <th></th>\n",
       "      <th>AppointmentDay</th>\n",
       "      <th>ScheduledDay</th>\n",
       "    </tr>\n",
       "  </thead>\n",
       "  <tbody>\n",
       "    <tr>\n",
       "      <th>27033</th>\n",
       "      <td>2016-05-09 00:00:00+00:00</td>\n",
       "      <td>2016-05-10 10:51:53+00:00</td>\n",
       "    </tr>\n",
       "    <tr>\n",
       "      <th>55226</th>\n",
       "      <td>2016-05-17 00:00:00+00:00</td>\n",
       "      <td>2016-05-18 14:50:41+00:00</td>\n",
       "    </tr>\n",
       "    <tr>\n",
       "      <th>64175</th>\n",
       "      <td>2016-05-04 00:00:00+00:00</td>\n",
       "      <td>2016-05-05 13:43:58+00:00</td>\n",
       "    </tr>\n",
       "    <tr>\n",
       "      <th>72362</th>\n",
       "      <td>2016-05-03 00:00:00+00:00</td>\n",
       "      <td>2016-05-04 06:50:57+00:00</td>\n",
       "    </tr>\n",
       "  </tbody>\n",
       "</table>\n",
       "</div>"
      ],
      "text/plain": [
       "                 AppointmentDay              ScheduledDay\n",
       "27033 2016-05-09 00:00:00+00:00 2016-05-10 10:51:53+00:00\n",
       "55226 2016-05-17 00:00:00+00:00 2016-05-18 14:50:41+00:00\n",
       "64175 2016-05-04 00:00:00+00:00 2016-05-05 13:43:58+00:00\n",
       "72362 2016-05-03 00:00:00+00:00 2016-05-04 06:50:57+00:00"
      ]
     },
     "execution_count": 54,
     "metadata": {},
     "output_type": "execute_result"
    }
   ],
   "source": [
    "##checking the appointment day and schedule with awaiting_days of -2\n",
    "da.query('awaiting_days == -2')[['AppointmentDay','ScheduledDay']]"
   ]
  },
  {
   "cell_type": "code",
   "execution_count": 55,
   "metadata": {},
   "outputs": [
    {
     "data": {
      "text/html": [
       "<div>\n",
       "<style scoped>\n",
       "    .dataframe tbody tr th:only-of-type {\n",
       "        vertical-align: middle;\n",
       "    }\n",
       "\n",
       "    .dataframe tbody tr th {\n",
       "        vertical-align: top;\n",
       "    }\n",
       "\n",
       "    .dataframe thead th {\n",
       "        text-align: right;\n",
       "    }\n",
       "</style>\n",
       "<table border=\"1\" class=\"dataframe\">\n",
       "  <thead>\n",
       "    <tr style=\"text-align: right;\">\n",
       "      <th></th>\n",
       "      <th>AppointmentDay</th>\n",
       "      <th>ScheduledDay</th>\n",
       "    </tr>\n",
       "  </thead>\n",
       "  <tbody>\n",
       "    <tr>\n",
       "      <th>71533</th>\n",
       "      <td>2016-05-05 00:00:00+00:00</td>\n",
       "      <td>2016-05-11 13:49:20+00:00</td>\n",
       "    </tr>\n",
       "  </tbody>\n",
       "</table>\n",
       "</div>"
      ],
      "text/plain": [
       "                 AppointmentDay              ScheduledDay\n",
       "71533 2016-05-05 00:00:00+00:00 2016-05-11 13:49:20+00:00"
      ]
     },
     "execution_count": 55,
     "metadata": {},
     "output_type": "execute_result"
    }
   ],
   "source": [
    "#checking the appointment day and schedule with awaiting_days of -7\n",
    "da.query('awaiting_days == -7')[['AppointmentDay','ScheduledDay']]"
   ]
  },
  {
   "cell_type": "markdown",
   "metadata": {},
   "source": [
    "> In both cases,the ScheduledDay is later than the Appointment day which is not meant to be. Hence the rows with awaiting days of -2 and -7 will be excluded from our analysis"
   ]
  },
  {
   "cell_type": "code",
   "execution_count": 56,
   "metadata": {},
   "outputs": [],
   "source": [
    "#excluding the values\n",
    "da = da[(da.awaiting_days >= 0)]"
   ]
  },
  {
   "cell_type": "code",
   "execution_count": 57,
   "metadata": {},
   "outputs": [
    {
     "data": {
      "text/plain": [
       "array([  0,   1,   2,   3,   8,  28,   9,  22,  10,  17,  16,  13,  27,\n",
       "        23,  20,  14,  15,  21,  42,  29,  30,  41,  31,  55,  44,  45,\n",
       "        38,  36,  37,  43,  49,  59,  51,  52,  64,  66,  90,  65,  83,\n",
       "        77,  86, 114, 108,  62,  69,  71,  56,  57,  50,  58,  40,  48,\n",
       "        72,  63,  19,  32,  33,   5,  34,  35,  11,  12,  39,  46,   7,\n",
       "         4,   6,  24,  25,  47,  26,  18,  60,  54,  61, 175,  53,  76,\n",
       "        68,  82,  75,  88,  80, 102,  78,  67,  74,  84, 111,  79,  85,\n",
       "        97,  93, 141, 154, 161, 168, 103, 132, 124,  95,  87,  89, 150,\n",
       "       125, 126, 110, 118,  73,  70,  81, 107, 109, 101, 121, 100, 104,\n",
       "        91,  96,  92, 106,  94, 138, 131, 178, 116, 145, 122], dtype=int64)"
      ]
     },
     "execution_count": 57,
     "metadata": {},
     "output_type": "execute_result"
    }
   ],
   "source": [
    "#confirming changes\n",
    "da['awaiting_days'].unique()"
   ]
  },
  {
   "cell_type": "code",
   "execution_count": 58,
   "metadata": {},
   "outputs": [
    {
     "data": {
      "text/plain": [
       "Text(0.5, 1.0, 'Number of patients by awaiting days')"
      ]
     },
     "execution_count": 58,
     "metadata": {},
     "output_type": "execute_result"
    },
    {
     "data": {
      "image/png": "[encoded data removed]",
      "text/plain": [
       "<Figure size 1296x288 with 1 Axes>"
      ]
     },
     "metadata": {
      "needs_background": "light"
     },
     "output_type": "display_data"
    }
   ],
   "source": [
    "plt.figure(figsize=(18,4))\n",
    "pl = sns.countplot(x=da['awaiting_days'], data=da);\n",
    "pl.set_title(\"Number of patients by awaiting days\")"
   ]
  },
  {
   "cell_type": "markdown",
   "metadata": {},
   "source": [
    "> Patients with awaiting days of 0(appointment day on the scheduled day) showed up the most for the appointment"
   ]
  },
  {
   "cell_type": "code",
   "execution_count": 59,
   "metadata": {},
   "outputs": [
    {
     "data": {
      "text/plain": [
       "<AxesSubplot:>"
      ]
     },
     "execution_count": 59,
     "metadata": {},
     "output_type": "execute_result"
    },
    {
     "data": {
      "image/png": "[encoded data removed]",
      "text/plain": [
       "<Figure size 432x288 with 1 Axes>"
      ]
     },
     "metadata": {
      "needs_background": "light"
     },
     "output_type": "display_data"
    }
   ],
   "source": [
    "da['awaiting_days'].hist(bins=20)"
   ]
  },
  {
   "cell_type": "markdown",
   "metadata": {},
   "source": [
    "> The distribution of awaiting days shows that the longer the awaiting days,the lower the show up rate. Hence patients with awaiting days are more likely to show than other with longer awaiting days"
   ]
  },
  {
   "cell_type": "markdown",
   "metadata": {},
   "source": [
    "<a id='conclusions'></a>\n",
    "## Conclusions\n",
    "\n",
    "> I explored the dataset and handled some issues relating to data type and added a new feature. Upon investigation of few of the Independent variables and the dependent variable,I gained some insights. More investigations and statistical analysis will reveal further insights.\n",
    "\n",
    ">Here are findings to my research questions below;\n",
    "\n",
    "- 20% of patients failed to show up for their appoitments\n",
    "- Most of the patients scheduled for appointments are not Hypertension and Diabetes patients\n",
    "- Most of the patients are not alcoholic(Only 3360 patients out of the 110257 patients are alcoholic)   \n",
    "\n",
    "- Most of the patients are not on Brazilian welfare program(99666 patients not on welfare program and 10861 on welfare program)\n",
    "- 2578 out of the total 10861 patients on welfare program missed the appointment representing 24% of the total welfare recipients\n",
    "- 19741 out of the total 99666 patients not on welfare program missed the appointment representing 20% of the total welfare recipients\n",
    "- Those not on welfare program tends to be scheduled for appointments and even show up slightly more than those on welfare program\n",
    "\n",
    "- There are more females scheduled for the appointment than Males(71840 females and 38687 males)\n",
    "- 14594 out of the total 71840 female appointments were missed representing 20% of the female appointments\n",
    "- 7725 out of the total 38687 male appointments were missed representing 20% of the total male appointments\n",
    "- There is no insight to show that females tends to show up more than male or vice versa\n",
    "\n",
    "- The appointments were majorly during the weekdays with only few scheduled to hold on Saturday. There are no appointment on Sunday\n",
    "\n",
    "- The average and median age is 37. Maximum age is 115 and the minimum is 0\n",
    "- Most of the patients are within the age range of 0-60 with a lot of infants scheduled for the appointments.The number of patients scheduled for appointment decreased from ages above 60\n",
    "- The 60-80 years age range has the highest show up percentage and the least no-show up percentage. For ages between 40-100 years,the show up rate is above 80%\n",
    "\n",
    "- Patients with awaiting days of 0(appointment day on the scheduled day) showed up the most for the appointment\n",
    "- The longer the awaitind days,the lower the show up rate. Hence awaiting days is an important in determining whether a patient will show up for the appointment"
   ]
  },
  {
   "cell_type": "markdown",
   "metadata": {},
   "source": [
    "<a id='limitations'></a>\n",
    "## Limitations"
   ]
  },
  {
   "cell_type": "markdown",
   "metadata": {},
   "source": [
    "- More Information is needed to verify whether the Handcap column and the SMS_received were swapped to further investigate how the reminder from the medical personnels affect the patients show up rate\n"
   ]
  }
 ],
 "metadata": {
  "kernelspec": {
   "display_name": "Python 3",
   "language": "python",
   "name": "python3"
  },
  "language_info": {
   "codemirror_mode": {
    "name": "ipython",
    "version": 3
   },
   "file_extension": ".py",
   "mimetype": "text/x-python",
   "name": "python",
   "nbconvert_exporter": "python",
   "pygments_lexer": "ipython3",
   "version": "3.8.5"
  }
 },
 "nbformat": 4,
 "nbformat_minor": 2
}
